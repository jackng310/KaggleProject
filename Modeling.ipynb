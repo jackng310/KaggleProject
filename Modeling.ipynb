{
 "cells": [
  {
   "cell_type": "code",
   "execution_count": 1,
   "metadata": {},
   "outputs": [],
   "source": [
    "from __future__ import print_function  # Python 2 and 3\n",
    "import numpy as np\n",
    "from scipy import stats\n",
    "import matplotlib.pyplot as plt\n",
    "from scipy import stats\n",
    "import pandas as pd\n",
    "%matplotlib inline\n",
    "plt.style.use('ggplot')\n",
    "pd.set_option('display.max_rows', 80)\n",
    "\n"
   ]
  },
  {
   "cell_type": "code",
   "execution_count": 2,
   "metadata": {},
   "outputs": [],
   "source": [
    "data = pd.read_csv('to_model.csv', index_col=0)"
   ]
  },
  {
   "cell_type": "code",
   "execution_count": 3,
   "metadata": {},
   "outputs": [
    {
     "data": {
      "text/html": [
       "<div>\n",
       "<style scoped>\n",
       "    .dataframe tbody tr th:only-of-type {\n",
       "        vertical-align: middle;\n",
       "    }\n",
       "\n",
       "    .dataframe tbody tr th {\n",
       "        vertical-align: top;\n",
       "    }\n",
       "\n",
       "    .dataframe thead th {\n",
       "        text-align: right;\n",
       "    }\n",
       "</style>\n",
       "<table border=\"1\" class=\"dataframe\">\n",
       "  <thead>\n",
       "    <tr style=\"text-align: right;\">\n",
       "      <th></th>\n",
       "      <th>LotFrontage</th>\n",
       "      <th>LotArea</th>\n",
       "      <th>OverallQual</th>\n",
       "      <th>YearBuilt</th>\n",
       "      <th>YearRemodAdd</th>\n",
       "      <th>MasVnrArea</th>\n",
       "      <th>BsmtUnfSF</th>\n",
       "      <th>TotalBsmtSF</th>\n",
       "      <th>1stFlrSF</th>\n",
       "      <th>2ndFlrSF</th>\n",
       "      <th>...</th>\n",
       "      <th>FireplaceQu_not present</th>\n",
       "      <th>GarageType_Attchd</th>\n",
       "      <th>GarageType_Basment</th>\n",
       "      <th>GarageType_BuiltIn</th>\n",
       "      <th>GarageType_CarPort</th>\n",
       "      <th>GarageType_Detchd</th>\n",
       "      <th>GarageType_not present</th>\n",
       "      <th>GarageFinish_RFn</th>\n",
       "      <th>GarageFinish_Unf</th>\n",
       "      <th>GarageFinish_not present</th>\n",
       "    </tr>\n",
       "    <tr>\n",
       "      <th>Id</th>\n",
       "      <th></th>\n",
       "      <th></th>\n",
       "      <th></th>\n",
       "      <th></th>\n",
       "      <th></th>\n",
       "      <th></th>\n",
       "      <th></th>\n",
       "      <th></th>\n",
       "      <th></th>\n",
       "      <th></th>\n",
       "      <th></th>\n",
       "      <th></th>\n",
       "      <th></th>\n",
       "      <th></th>\n",
       "      <th></th>\n",
       "      <th></th>\n",
       "      <th></th>\n",
       "      <th></th>\n",
       "      <th></th>\n",
       "      <th></th>\n",
       "      <th></th>\n",
       "    </tr>\n",
       "  </thead>\n",
       "  <tbody>\n",
       "    <tr>\n",
       "      <td>1</td>\n",
       "      <td>15.287695</td>\n",
       "      <td>13.632926</td>\n",
       "      <td>7</td>\n",
       "      <td>5</td>\n",
       "      <td>5</td>\n",
       "      <td>2.984793</td>\n",
       "      <td>20.432408</td>\n",
       "      <td>305.810785</td>\n",
       "      <td>7.304664</td>\n",
       "      <td>4.518654</td>\n",
       "      <td>...</td>\n",
       "      <td>1</td>\n",
       "      <td>1</td>\n",
       "      <td>0</td>\n",
       "      <td>0</td>\n",
       "      <td>0</td>\n",
       "      <td>0</td>\n",
       "      <td>0</td>\n",
       "      <td>1</td>\n",
       "      <td>0</td>\n",
       "      <td>0</td>\n",
       "    </tr>\n",
       "    <tr>\n",
       "      <td>2</td>\n",
       "      <td>17.239974</td>\n",
       "      <td>13.910482</td>\n",
       "      <td>6</td>\n",
       "      <td>31</td>\n",
       "      <td>31</td>\n",
       "      <td>0.000000</td>\n",
       "      <td>28.298505</td>\n",
       "      <td>420.481939</td>\n",
       "      <td>7.759475</td>\n",
       "      <td>0.000000</td>\n",
       "      <td>...</td>\n",
       "      <td>0</td>\n",
       "      <td>1</td>\n",
       "      <td>0</td>\n",
       "      <td>0</td>\n",
       "      <td>0</td>\n",
       "      <td>0</td>\n",
       "      <td>0</td>\n",
       "      <td>1</td>\n",
       "      <td>0</td>\n",
       "      <td>0</td>\n",
       "    </tr>\n",
       "    <tr>\n",
       "      <td>3</td>\n",
       "      <td>15.693788</td>\n",
       "      <td>14.259735</td>\n",
       "      <td>7</td>\n",
       "      <td>7</td>\n",
       "      <td>6</td>\n",
       "      <td>2.930671</td>\n",
       "      <td>35.002689</td>\n",
       "      <td>324.450218</td>\n",
       "      <td>7.388824</td>\n",
       "      <td>4.524517</td>\n",
       "      <td>...</td>\n",
       "      <td>0</td>\n",
       "      <td>1</td>\n",
       "      <td>0</td>\n",
       "      <td>0</td>\n",
       "      <td>0</td>\n",
       "      <td>0</td>\n",
       "      <td>0</td>\n",
       "      <td>1</td>\n",
       "      <td>0</td>\n",
       "      <td>0</td>\n",
       "    </tr>\n",
       "    <tr>\n",
       "      <td>4</td>\n",
       "      <td>14.590868</td>\n",
       "      <td>13.899064</td>\n",
       "      <td>7</td>\n",
       "      <td>91</td>\n",
       "      <td>36</td>\n",
       "      <td>0.000000</td>\n",
       "      <td>39.018542</td>\n",
       "      <td>276.167375</td>\n",
       "      <td>7.439786</td>\n",
       "      <td>4.466991</td>\n",
       "      <td>...</td>\n",
       "      <td>0</td>\n",
       "      <td>0</td>\n",
       "      <td>0</td>\n",
       "      <td>0</td>\n",
       "      <td>0</td>\n",
       "      <td>1</td>\n",
       "      <td>0</td>\n",
       "      <td>0</td>\n",
       "      <td>1</td>\n",
       "      <td>0</td>\n",
       "    </tr>\n",
       "    <tr>\n",
       "      <td>5</td>\n",
       "      <td>17.730821</td>\n",
       "      <td>14.790720</td>\n",
       "      <td>8</td>\n",
       "      <td>8</td>\n",
       "      <td>8</td>\n",
       "      <td>3.135307</td>\n",
       "      <td>37.181717</td>\n",
       "      <td>388.234879</td>\n",
       "      <td>7.645087</td>\n",
       "      <td>4.605592</td>\n",
       "      <td>...</td>\n",
       "      <td>0</td>\n",
       "      <td>1</td>\n",
       "      <td>0</td>\n",
       "      <td>0</td>\n",
       "      <td>0</td>\n",
       "      <td>0</td>\n",
       "      <td>0</td>\n",
       "      <td>1</td>\n",
       "      <td>0</td>\n",
       "      <td>0</td>\n",
       "    </tr>\n",
       "    <tr>\n",
       "      <td>...</td>\n",
       "      <td>...</td>\n",
       "      <td>...</td>\n",
       "      <td>...</td>\n",
       "      <td>...</td>\n",
       "      <td>...</td>\n",
       "      <td>...</td>\n",
       "      <td>...</td>\n",
       "      <td>...</td>\n",
       "      <td>...</td>\n",
       "      <td>...</td>\n",
       "      <td>...</td>\n",
       "      <td>...</td>\n",
       "      <td>...</td>\n",
       "      <td>...</td>\n",
       "      <td>...</td>\n",
       "      <td>...</td>\n",
       "      <td>...</td>\n",
       "      <td>...</td>\n",
       "      <td>...</td>\n",
       "      <td>...</td>\n",
       "      <td>...</td>\n",
       "    </tr>\n",
       "    <tr>\n",
       "      <td>1456</td>\n",
       "      <td>14.872738</td>\n",
       "      <td>13.492362</td>\n",
       "      <td>6</td>\n",
       "      <td>8</td>\n",
       "      <td>7</td>\n",
       "      <td>0.000000</td>\n",
       "      <td>51.618295</td>\n",
       "      <td>333.968531</td>\n",
       "      <td>7.430011</td>\n",
       "      <td>4.430243</td>\n",
       "      <td>...</td>\n",
       "      <td>0</td>\n",
       "      <td>1</td>\n",
       "      <td>0</td>\n",
       "      <td>0</td>\n",
       "      <td>0</td>\n",
       "      <td>0</td>\n",
       "      <td>0</td>\n",
       "      <td>1</td>\n",
       "      <td>0</td>\n",
       "      <td>0</td>\n",
       "    </tr>\n",
       "    <tr>\n",
       "      <td>1457</td>\n",
       "      <td>17.851808</td>\n",
       "      <td>14.612288</td>\n",
       "      <td>6</td>\n",
       "      <td>32</td>\n",
       "      <td>22</td>\n",
       "      <td>2.837770</td>\n",
       "      <td>40.733370</td>\n",
       "      <td>495.565378</td>\n",
       "      <td>8.347088</td>\n",
       "      <td>0.000000</td>\n",
       "      <td>...</td>\n",
       "      <td>0</td>\n",
       "      <td>1</td>\n",
       "      <td>0</td>\n",
       "      <td>0</td>\n",
       "      <td>0</td>\n",
       "      <td>0</td>\n",
       "      <td>0</td>\n",
       "      <td>0</td>\n",
       "      <td>1</td>\n",
       "      <td>0</td>\n",
       "    </tr>\n",
       "    <tr>\n",
       "      <td>1458</td>\n",
       "      <td>15.424015</td>\n",
       "      <td>13.779845</td>\n",
       "      <td>7</td>\n",
       "      <td>69</td>\n",
       "      <td>4</td>\n",
       "      <td>0.000000</td>\n",
       "      <td>49.557574</td>\n",
       "      <td>390.180479</td>\n",
       "      <td>7.688400</td>\n",
       "      <td>4.642183</td>\n",
       "      <td>...</td>\n",
       "      <td>0</td>\n",
       "      <td>1</td>\n",
       "      <td>0</td>\n",
       "      <td>0</td>\n",
       "      <td>0</td>\n",
       "      <td>0</td>\n",
       "      <td>0</td>\n",
       "      <td>1</td>\n",
       "      <td>0</td>\n",
       "      <td>0</td>\n",
       "    </tr>\n",
       "    <tr>\n",
       "      <td>1459</td>\n",
       "      <td>15.693788</td>\n",
       "      <td>13.936991</td>\n",
       "      <td>5</td>\n",
       "      <td>60</td>\n",
       "      <td>14</td>\n",
       "      <td>0.000000</td>\n",
       "      <td>0.000000</td>\n",
       "      <td>369.501083</td>\n",
       "      <td>7.574327</td>\n",
       "      <td>0.000000</td>\n",
       "      <td>...</td>\n",
       "      <td>1</td>\n",
       "      <td>1</td>\n",
       "      <td>0</td>\n",
       "      <td>0</td>\n",
       "      <td>0</td>\n",
       "      <td>0</td>\n",
       "      <td>0</td>\n",
       "      <td>0</td>\n",
       "      <td>1</td>\n",
       "      <td>0</td>\n",
       "    </tr>\n",
       "    <tr>\n",
       "      <td>1460</td>\n",
       "      <td>16.609928</td>\n",
       "      <td>13.986054</td>\n",
       "      <td>5</td>\n",
       "      <td>43</td>\n",
       "      <td>43</td>\n",
       "      <td>0.000000</td>\n",
       "      <td>19.422098</td>\n",
       "      <td>418.841861</td>\n",
       "      <td>7.753866</td>\n",
       "      <td>0.000000</td>\n",
       "      <td>...</td>\n",
       "      <td>1</td>\n",
       "      <td>1</td>\n",
       "      <td>0</td>\n",
       "      <td>0</td>\n",
       "      <td>0</td>\n",
       "      <td>0</td>\n",
       "      <td>0</td>\n",
       "      <td>0</td>\n",
       "      <td>0</td>\n",
       "      <td>0</td>\n",
       "    </tr>\n",
       "  </tbody>\n",
       "</table>\n",
       "<p>1445 rows × 112 columns</p>\n",
       "</div>"
      ],
      "text/plain": [
       "      LotFrontage    LotArea  OverallQual  YearBuilt  YearRemodAdd  \\\n",
       "Id                                                                   \n",
       "1       15.287695  13.632926            7          5             5   \n",
       "2       17.239974  13.910482            6         31            31   \n",
       "3       15.693788  14.259735            7          7             6   \n",
       "4       14.590868  13.899064            7         91            36   \n",
       "5       17.730821  14.790720            8          8             8   \n",
       "...           ...        ...          ...        ...           ...   \n",
       "1456    14.872738  13.492362            6          8             7   \n",
       "1457    17.851808  14.612288            6         32            22   \n",
       "1458    15.424015  13.779845            7         69             4   \n",
       "1459    15.693788  13.936991            5         60            14   \n",
       "1460    16.609928  13.986054            5         43            43   \n",
       "\n",
       "      MasVnrArea  BsmtUnfSF  TotalBsmtSF  1stFlrSF  2ndFlrSF  ...  \\\n",
       "Id                                                            ...   \n",
       "1       2.984793  20.432408   305.810785  7.304664  4.518654  ...   \n",
       "2       0.000000  28.298505   420.481939  7.759475  0.000000  ...   \n",
       "3       2.930671  35.002689   324.450218  7.388824  4.524517  ...   \n",
       "4       0.000000  39.018542   276.167375  7.439786  4.466991  ...   \n",
       "5       3.135307  37.181717   388.234879  7.645087  4.605592  ...   \n",
       "...          ...        ...          ...       ...       ...  ...   \n",
       "1456    0.000000  51.618295   333.968531  7.430011  4.430243  ...   \n",
       "1457    2.837770  40.733370   495.565378  8.347088  0.000000  ...   \n",
       "1458    0.000000  49.557574   390.180479  7.688400  4.642183  ...   \n",
       "1459    0.000000   0.000000   369.501083  7.574327  0.000000  ...   \n",
       "1460    0.000000  19.422098   418.841861  7.753866  0.000000  ...   \n",
       "\n",
       "      FireplaceQu_not present  GarageType_Attchd  GarageType_Basment  \\\n",
       "Id                                                                     \n",
       "1                           1                  1                   0   \n",
       "2                           0                  1                   0   \n",
       "3                           0                  1                   0   \n",
       "4                           0                  0                   0   \n",
       "5                           0                  1                   0   \n",
       "...                       ...                ...                 ...   \n",
       "1456                        0                  1                   0   \n",
       "1457                        0                  1                   0   \n",
       "1458                        0                  1                   0   \n",
       "1459                        1                  1                   0   \n",
       "1460                        1                  1                   0   \n",
       "\n",
       "      GarageType_BuiltIn  GarageType_CarPort  GarageType_Detchd  \\\n",
       "Id                                                                \n",
       "1                      0                   0                  0   \n",
       "2                      0                   0                  0   \n",
       "3                      0                   0                  0   \n",
       "4                      0                   0                  1   \n",
       "5                      0                   0                  0   \n",
       "...                  ...                 ...                ...   \n",
       "1456                   0                   0                  0   \n",
       "1457                   0                   0                  0   \n",
       "1458                   0                   0                  0   \n",
       "1459                   0                   0                  0   \n",
       "1460                   0                   0                  0   \n",
       "\n",
       "      GarageType_not present  GarageFinish_RFn  GarageFinish_Unf  \\\n",
       "Id                                                                 \n",
       "1                          0                 1                 0   \n",
       "2                          0                 1                 0   \n",
       "3                          0                 1                 0   \n",
       "4                          0                 0                 1   \n",
       "5                          0                 1                 0   \n",
       "...                      ...               ...               ...   \n",
       "1456                       0                 1                 0   \n",
       "1457                       0                 0                 1   \n",
       "1458                       0                 1                 0   \n",
       "1459                       0                 0                 1   \n",
       "1460                       0                 0                 0   \n",
       "\n",
       "      GarageFinish_not present  \n",
       "Id                              \n",
       "1                            0  \n",
       "2                            0  \n",
       "3                            0  \n",
       "4                            0  \n",
       "5                            0  \n",
       "...                        ...  \n",
       "1456                         0  \n",
       "1457                         0  \n",
       "1458                         0  \n",
       "1459                         0  \n",
       "1460                         0  \n",
       "\n",
       "[1445 rows x 112 columns]"
      ]
     },
     "execution_count": 3,
     "metadata": {},
     "output_type": "execute_result"
    }
   ],
   "source": [
    "data"
   ]
  },
  {
   "cell_type": "markdown",
   "metadata": {},
   "source": [
    "# Multilinear Regression Model"
   ]
  },
  {
   "cell_type": "code",
   "execution_count": 4,
   "metadata": {},
   "outputs": [],
   "source": [
    "X = data.drop('SalePrice', axis=1)\n",
    "y = data['SalePrice']"
   ]
  },
  {
   "cell_type": "code",
   "execution_count": 7,
   "metadata": {},
   "outputs": [],
   "source": [
    "from sklearn.model_selection import train_test_split\n",
    "\n",
    "Xtrain,Xtest,ytrain,ytest = train_test_split(X,y)"
   ]
  },
  {
   "cell_type": "code",
   "execution_count": 8,
   "metadata": {},
   "outputs": [],
   "source": [
    "from sklearn.linear_model import LinearRegression\n",
    "\n",
    "ml = LinearRegression()"
   ]
  },
  {
   "cell_type": "code",
   "execution_count": 9,
   "metadata": {},
   "outputs": [
    {
     "data": {
      "text/plain": [
       "LinearRegression(copy_X=True, fit_intercept=True, n_jobs=None, normalize=False)"
      ]
     },
     "execution_count": 9,
     "metadata": {},
     "output_type": "execute_result"
    }
   ],
   "source": [
    "ml.fit(Xtrain,ytrain)"
   ]
  },
  {
   "cell_type": "code",
   "execution_count": 11,
   "metadata": {},
   "outputs": [
    {
     "name": "stdout",
     "output_type": "stream",
     "text": [
      "R2 =  0.8775767706210154\n",
      "Coefs =  [ 1.25533737e+02  8.67305230e+03  1.15655275e+04 -5.14628241e+01\n",
      " -2.60766293e+02 -4.87395331e+03 -1.04204035e+01  8.01433221e+01\n",
      "  6.75384954e+03  4.07327995e+03  1.65468392e+04  1.34679735e+03\n",
      "  8.76274676e+03  6.70887208e+01  2.76914283e+03  1.16763460e+02\n",
      "  2.20270852e+02  3.63612480e+02  6.79588333e+02  2.34387243e+03\n",
      "  3.34721917e+03 -6.15062568e+03  1.04418928e+03  8.60463586e+03\n",
      " -8.22976747e+03 -1.58227391e+03  5.67519353e+04  1.18391504e+04\n",
      "  4.00749704e+04  1.97168898e+04  1.27594702e+04  1.34729700e+04\n",
      " -9.99146808e+03  9.43667001e+03  7.77579724e+03  6.91292145e+03\n",
      " -8.73114914e-11 -4.33744724e+04  1.47162090e+04 -8.47838897e+01\n",
      " -1.18134174e+04 -1.17498675e+04 -2.96391408e+04 -1.61891249e+04\n",
      " -6.98084704e+03  1.15156076e+04  5.07288073e+03 -1.37992317e+04\n",
      " -1.91093670e+04 -9.83640162e+03 -1.63709046e-11  1.37288388e+04\n",
      " -2.50886043e+03 -8.47838897e+01  1.94374230e+04  8.77839501e+03\n",
      " -8.01808437e+03  1.65159750e+04  2.18278728e-11  5.80975710e+03\n",
      "  5.09125110e+03  1.18858585e+04  1.29814937e+04  1.81231764e+04\n",
      "  6.57682063e+03  8.43147768e+03 -6.67067315e+03  1.07816682e+04\n",
      " -2.70317197e+04 -2.66860583e+04 -3.04737820e+04  3.70514871e+03\n",
      "  2.15157541e+03  4.05162175e+03 -4.60085440e+03 -5.95214638e+03\n",
      " -3.34485296e+04 -2.42544316e+04 -2.64399812e+04 -4.94218000e+03\n",
      "  1.70524495e+04  7.30904116e+02 -5.18399952e+03 -4.94218000e+03\n",
      "  1.80706874e+02  1.24783682e+03 -5.99624347e+03 -3.26820503e+03\n",
      " -6.38414461e+01 -4.94218000e+03 -2.22678823e+03 -2.54686483e+03\n",
      " -6.36646291e-12 -4.33319495e+03 -2.31801980e+04 -1.97940915e+04\n",
      " -2.56914728e+04 -2.59883739e+04 -2.45986599e+04 -2.25083195e+04\n",
      " -2.68468978e+04 -1.90872814e+04  3.84292705e+04  3.05363189e+04\n",
      "  5.26098869e+04  3.33326704e+04  4.05186785e+04  2.73861785e+04\n",
      " -1.59870674e+03  1.68559828e+02  2.73861785e+04]\n",
      "Intercept = -267036.30918913044\n"
     ]
    }
   ],
   "source": [
    "print(\"R2 = \", ml.score(Xtest,ytest))\n",
    "\n",
    "print('Coefs = ', ml.coef_)\n",
    "\n",
    "print('Intercept =', ml.intercept_)"
   ]
  },
  {
   "cell_type": "code",
   "execution_count": null,
   "metadata": {},
   "outputs": [],
   "source": []
  },
  {
   "cell_type": "markdown",
   "metadata": {},
   "source": [
    "# Ridge and Lasso"
   ]
  },
  {
   "cell_type": "code",
   "execution_count": 13,
   "metadata": {},
   "outputs": [],
   "source": [
    "from sklearn.linear_model import Lasso, Ridge, ElasticNet\n",
    "\n",
    "lasso = Lasso()\n",
    "ridge = Ridge()"
   ]
  },
  {
   "cell_type": "code",
   "execution_count": 24,
   "metadata": {},
   "outputs": [],
   "source": [
    "#setting alpha values that we want to grid search \n",
    "params_lasso = [{'alpha': [1* 10**i for i in range(-2,3)]}]\n",
    "params_ridge = [{'alpha': [1*10**i for i in range(-2,3)]}]"
   ]
  },
  {
   "cell_type": "code",
   "execution_count": 26,
   "metadata": {},
   "outputs": [],
   "source": [
    "from sklearn.model_selection import GridSearchCV\n",
    "\n",
    "grid_lasso = GridSearchCV(estimator = lasso, param_grid = params_lasso, cv=5)\n",
    "grid_ridge = GridSearchCV(estimator = ridge, param_grid = params_ridge, cv=5)\n"
   ]
  },
  {
   "cell_type": "code",
   "execution_count": 67,
   "metadata": {},
   "outputs": [
    {
     "name": "stderr",
     "output_type": "stream",
     "text": [
      "/opt/anaconda3/lib/python3.7/site-packages/sklearn/linear_model/coordinate_descent.py:475: ConvergenceWarning: Objective did not converge. You might want to increase the number of iterations. Duality gap: 353760407428.77905, tolerance: 682567944.1365045\n",
      "  positive)\n",
      "/opt/anaconda3/lib/python3.7/site-packages/sklearn/linear_model/coordinate_descent.py:475: ConvergenceWarning: Objective did not converge. You might want to increase the number of iterations. Duality gap: 352162139577.60754, tolerance: 671063220.8189664\n",
      "  positive)\n",
      "/opt/anaconda3/lib/python3.7/site-packages/sklearn/linear_model/coordinate_descent.py:475: ConvergenceWarning: Objective did not converge. You might want to increase the number of iterations. Duality gap: 281217260100.48016, tolerance: 622423812.2619891\n",
      "  positive)\n",
      "/opt/anaconda3/lib/python3.7/site-packages/sklearn/linear_model/coordinate_descent.py:475: ConvergenceWarning: Objective did not converge. You might want to increase the number of iterations. Duality gap: 335646950485.0204, tolerance: 710129967.9557233\n",
      "  positive)\n",
      "/opt/anaconda3/lib/python3.7/site-packages/sklearn/linear_model/coordinate_descent.py:475: ConvergenceWarning: Objective did not converge. You might want to increase the number of iterations. Duality gap: 284047135361.4669, tolerance: 687733226.5025076\n",
      "  positive)\n",
      "/opt/anaconda3/lib/python3.7/site-packages/sklearn/linear_model/coordinate_descent.py:475: ConvergenceWarning: Objective did not converge. You might want to increase the number of iterations. Duality gap: 316725138343.36664, tolerance: 682567944.1365045\n",
      "  positive)\n",
      "/opt/anaconda3/lib/python3.7/site-packages/sklearn/linear_model/coordinate_descent.py:475: ConvergenceWarning: Objective did not converge. You might want to increase the number of iterations. Duality gap: 175374791658.03925, tolerance: 671063220.8189664\n",
      "  positive)\n",
      "/opt/anaconda3/lib/python3.7/site-packages/sklearn/linear_model/coordinate_descent.py:475: ConvergenceWarning: Objective did not converge. You might want to increase the number of iterations. Duality gap: 103198042169.93024, tolerance: 622423812.2619891\n",
      "  positive)\n",
      "/opt/anaconda3/lib/python3.7/site-packages/sklearn/linear_model/coordinate_descent.py:475: ConvergenceWarning: Objective did not converge. You might want to increase the number of iterations. Duality gap: 23113149695.051025, tolerance: 710129967.9557233\n",
      "  positive)\n",
      "/opt/anaconda3/lib/python3.7/site-packages/sklearn/linear_model/coordinate_descent.py:475: ConvergenceWarning: Objective did not converge. You might want to increase the number of iterations. Duality gap: 115413643698.54382, tolerance: 687733226.5025076\n",
      "  positive)\n",
      "/opt/anaconda3/lib/python3.7/site-packages/sklearn/linear_model/coordinate_descent.py:475: ConvergenceWarning: Objective did not converge. You might want to increase the number of iterations. Duality gap: 1154877234.807373, tolerance: 671063220.8189664\n",
      "  positive)\n"
     ]
    },
    {
     "data": {
      "text/plain": [
       "GridSearchCV(cv=5, error_score='raise-deprecating',\n",
       "             estimator=Lasso(alpha=1.0, copy_X=True, fit_intercept=True,\n",
       "                             max_iter=1000, normalize=False, positive=False,\n",
       "                             precompute=False, random_state=None,\n",
       "                             selection='cyclic', tol=0.0001, warm_start=False),\n",
       "             iid='warn', n_jobs=None,\n",
       "             param_grid=[{'alpha': [0.01, 0.1, 1, 10, 100]}],\n",
       "             pre_dispatch='2*n_jobs', refit=True, return_train_score=False,\n",
       "             scoring=None, verbose=0)"
      ]
     },
     "execution_count": 67,
     "metadata": {},
     "output_type": "execute_result"
    }
   ],
   "source": [
    "grid_lasso.fit(X,y)"
   ]
  },
  {
   "cell_type": "code",
   "execution_count": 66,
   "metadata": {},
   "outputs": [
    {
     "data": {
      "text/plain": [
       "GridSearchCV(cv=5, error_score='raise-deprecating',\n",
       "             estimator=Ridge(alpha=1.0, copy_X=True, fit_intercept=True,\n",
       "                             max_iter=None, normalize=False, random_state=None,\n",
       "                             solver='auto', tol=0.001),\n",
       "             iid='warn', n_jobs=None,\n",
       "             param_grid=[{'alpha': [0.01, 0.1, 1, 10, 100]}],\n",
       "             pre_dispatch='2*n_jobs', refit=True, return_train_score=False,\n",
       "             scoring=None, verbose=0)"
      ]
     },
     "execution_count": 66,
     "metadata": {},
     "output_type": "execute_result"
    }
   ],
   "source": [
    "grid_ridge.fit(X,y)"
   ]
  },
  {
   "cell_type": "code",
   "execution_count": 68,
   "metadata": {},
   "outputs": [
    {
     "data": {
      "text/plain": [
       "0.8743175659499328"
      ]
     },
     "execution_count": 68,
     "metadata": {},
     "output_type": "execute_result"
    }
   ],
   "source": [
    "grid_lasso.best_score_"
   ]
  },
  {
   "cell_type": "code",
   "execution_count": 69,
   "metadata": {},
   "outputs": [
    {
     "data": {
      "text/plain": [
       "0.872963361781654"
      ]
     },
     "execution_count": 69,
     "metadata": {},
     "output_type": "execute_result"
    }
   ],
   "source": [
    "grid_ridge.best_score_"
   ]
  },
  {
   "cell_type": "code",
   "execution_count": 70,
   "metadata": {},
   "outputs": [],
   "source": [
    "top_lasso = grid_lasso.best_estimator_"
   ]
  },
  {
   "cell_type": "code",
   "execution_count": 71,
   "metadata": {},
   "outputs": [],
   "source": [
    "top_ridge = grid_ridge.best_estimator_"
   ]
  },
  {
   "cell_type": "code",
   "execution_count": 72,
   "metadata": {
    "scrolled": true
   },
   "outputs": [
    {
     "name": "stdout",
     "output_type": "stream",
     "text": [
      "Lasso Test Score: 0.8873675689027927\n",
      "Ridge Test Score: 0.8886107750522363\n"
     ]
    }
   ],
   "source": [
    "print('Lasso Test Score:', top_lasso.score(X,y))\n",
    "print('Ridge Test Score:', top_ridge.score(X,y))"
   ]
  },
  {
   "cell_type": "code",
   "execution_count": null,
   "metadata": {},
   "outputs": [],
   "source": []
  },
  {
   "cell_type": "markdown",
   "metadata": {},
   "source": [
    "# ElasticNet"
   ]
  },
  {
   "cell_type": "code",
   "execution_count": 39,
   "metadata": {},
   "outputs": [],
   "source": [
    "elastic = ElasticNet()"
   ]
  },
  {
   "cell_type": "code",
   "execution_count": 59,
   "metadata": {},
   "outputs": [],
   "source": [
    "params_elastic = [{'alpha': [1* 10**i for i in range(-2,3)]},\n",
    "                  {'l1_ratio': [i/10 for i in range(1,10) if i%2 ==0]}]"
   ]
  },
  {
   "cell_type": "code",
   "execution_count": 60,
   "metadata": {},
   "outputs": [],
   "source": [
    "grid_elastic = GridSearchCV(estimator = elastic, param_grid = params_elastic, cv=5)"
   ]
  },
  {
   "cell_type": "code",
   "execution_count": 73,
   "metadata": {},
   "outputs": [
    {
     "data": {
      "text/plain": [
       "GridSearchCV(cv=5, error_score='raise-deprecating',\n",
       "             estimator=ElasticNet(alpha=1.0, copy_X=True, fit_intercept=True,\n",
       "                                  l1_ratio=0.5, max_iter=1000, normalize=False,\n",
       "                                  positive=False, precompute=False,\n",
       "                                  random_state=None, selection='cyclic',\n",
       "                                  tol=0.0001, warm_start=False),\n",
       "             iid='warn', n_jobs=None,\n",
       "             param_grid=[{'alpha': [0.01, 0.1, 1, 10, 100]},\n",
       "                         {'l1_ratio': [0.2, 0.4, 0.6, 0.8]}],\n",
       "             pre_dispatch='2*n_jobs', refit=True, return_train_score=False,\n",
       "             scoring=None, verbose=0)"
      ]
     },
     "execution_count": 73,
     "metadata": {},
     "output_type": "execute_result"
    }
   ],
   "source": [
    "grid_elastic.fit(X,y) #i/10 for i in range(1,10)"
   ]
  },
  {
   "cell_type": "code",
   "execution_count": 74,
   "metadata": {},
   "outputs": [
    {
     "data": {
      "text/plain": [
       "0.8737931513102128"
      ]
     },
     "execution_count": 74,
     "metadata": {},
     "output_type": "execute_result"
    }
   ],
   "source": [
    "grid_elastic.best_score_"
   ]
  },
  {
   "cell_type": "code",
   "execution_count": 75,
   "metadata": {},
   "outputs": [],
   "source": [
    "top_elastic = grid_elastic.best_estimator_"
   ]
  },
  {
   "cell_type": "code",
   "execution_count": 76,
   "metadata": {},
   "outputs": [
    {
     "data": {
      "text/plain": [
       "0.8899105042405057"
      ]
     },
     "execution_count": 76,
     "metadata": {},
     "output_type": "execute_result"
    }
   ],
   "source": [
    "top_elastic.score(X,y)"
   ]
  },
  {
   "cell_type": "code",
   "execution_count": null,
   "metadata": {},
   "outputs": [],
   "source": []
  }
 ],
 "metadata": {
  "kernelspec": {
   "display_name": "Python 3",
   "language": "python",
   "name": "python3"
  },
  "language_info": {
   "codemirror_mode": {
    "name": "ipython",
    "version": 3
   },
   "file_extension": ".py",
   "mimetype": "text/x-python",
   "name": "python",
   "nbconvert_exporter": "python",
   "pygments_lexer": "ipython3",
   "version": "3.7.4"
  }
 },
 "nbformat": 4,
 "nbformat_minor": 2
}
